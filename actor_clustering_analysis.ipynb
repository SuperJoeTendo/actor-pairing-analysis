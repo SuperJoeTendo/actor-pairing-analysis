{
 "cells": [
  {
   "cell_type": "code",
   "execution_count": 2,
   "id": "e5c8ec78",
   "metadata": {},
   "outputs": [
    {
     "ename": "ModuleNotFoundError",
     "evalue": "No module named 'pandas'",
     "output_type": "error",
     "traceback": [
      "\u001b[31m---------------------------------------------------------------------------\u001b[39m",
      "\u001b[31mModuleNotFoundError\u001b[39m                       Traceback (most recent call last)",
      "\u001b[36mCell\u001b[39m\u001b[36m \u001b[39m\u001b[32mIn[2]\u001b[39m\u001b[32m, line 1\u001b[39m\n\u001b[32m----> \u001b[39m\u001b[32m1\u001b[39m \u001b[38;5;28;01mimport\u001b[39;00m\u001b[38;5;250m \u001b[39m\u001b[34;01mpandas\u001b[39;00m\u001b[38;5;250m \u001b[39m\u001b[38;5;28;01mas\u001b[39;00m\u001b[38;5;250m \u001b[39m\u001b[34;01mpd\u001b[39;00m\n\u001b[32m      2\u001b[39m \u001b[38;5;28;01mimport\u001b[39;00m\u001b[38;5;250m \u001b[39m\u001b[34;01mjson\u001b[39;00m\n\u001b[32m      3\u001b[39m \u001b[38;5;28;01mfrom\u001b[39;00m\u001b[38;5;250m \u001b[39m\u001b[34;01msklearn\u001b[39;00m\u001b[34;01m.\u001b[39;00m\u001b[34;01mpreprocessing\u001b[39;00m\u001b[38;5;250m \u001b[39m\u001b[38;5;28;01mimport\u001b[39;00m StandardScaler\n",
      "\u001b[31mModuleNotFoundError\u001b[39m: No module named 'pandas'"
     ]
    }
   ],
   "source": [
    "import pandas as pd\n",
    "import json\n",
    "from sklearn.preprocessing import StandardScaler\n",
    "from sklearn.cluster import KMeans\n",
    "import matplotlib.pyplot as plt\n",
    "import seaborn as sns"
   ]
  },
  {
   "cell_type": "code",
   "execution_count": null,
   "id": "88b839e3",
   "metadata": {},
   "outputs": [],
   "source": [
    "with open('imdb_movies_2000to2022.prolific.json', 'r') as f:\n",
    "    imdb_data = [json.loads(line) for line in f]"
   ]
  },
  {
   "cell_type": "code",
   "execution_count": null,
   "id": "198ee341",
   "metadata": {},
   "outputs": [],
   "source": [
    "imdb_rows = []\n",
    "for entry in imdb_data:\n",
    "    if \"rating\" in entry and \"avg\" in entry[\"rating\"] and entry[\"rating\"][\"avg\"] != \"\\\\N\":\n",
    "        rating = float(entry[\"rating\"][\"avg\"])\n",
    "        year = int(entry[\"year\"]) if entry[\"year\"].isdigit() else None\n",
    "        for actor in entry.get(\"actors\", []):\n",
    "            imdb_rows.append({\n",
    "                \"actor_name\": actor[1],\n",
    "                \"rating\": rating,\n",
    "                \"year\": year\n",
    "            })\n",
    "\n",
    "df_imdb = pd.DataFrame(imdb_rows)"
   ]
  },
  {
   "cell_type": "code",
   "execution_count": null,
   "id": "35321d6a",
   "metadata": {},
   "outputs": [],
   "source": [
    "imdb_stats = df_imdb.groupby('actor_name').agg(\n",
    "    avg_rating=('rating', 'mean'),\n",
    "    movie_count=('rating', 'count'),\n",
    "    first_year=('year', 'min'),\n",
    "    last_year=('year', 'max')\n",
    ").reset_index()\n",
    "imdb_stats['years_active'] = imdb_stats['last_year'] - imdb_stats['first_year']"
   ]
  },
  {
   "cell_type": "code",
   "execution_count": null,
   "id": "3ef865be",
   "metadata": {},
   "outputs": [],
   "source": [
    "tmdb_movies = pd.read_csv('/content/tmdb_5000_movies.csv')\n",
    "tmdb_credits = pd.read_csv('/content/tmdb_5000_credits.csv')"
   ]
  },
  {
   "cell_type": "code",
   "execution_count": null,
   "id": "3a3419c8",
   "metadata": {},
   "outputs": [],
   "source": [
    "tmdb_credits['cast'] = tmdb_credits['cast'].apply(json.loads)\n",
    "tmdb_cast_rows = []\n",
    "for _, row in tmdb_credits.iterrows():\n",
    "    for actor in row['cast']:\n",
    "        tmdb_cast_rows.append({\n",
    "            'movie_id': row['movie_id'],\n",
    "            'actor_name': actor['name']\n",
    "        })\n",
    "\n",
    "df_cast = pd.DataFrame(tmdb_cast_rows)"
   ]
  },
  {
   "cell_type": "code",
   "execution_count": null,
   "id": "7be842e4",
   "metadata": {},
   "outputs": [],
   "source": [
    "tmdb_movies_subset = tmdb_movies[['id', 'popularity', 'revenue']]\n",
    "df_tmdb = df_cast.merge(tmdb_movies_subset, left_on='movie_id', right_on='id', how='left')"
   ]
  },
  {
   "cell_type": "code",
   "execution_count": null,
   "id": "a760b137",
   "metadata": {},
   "outputs": [],
   "source": [
    "tmdb_stats = df_tmdb.groupby('actor_name').agg(\n",
    "    avg_popularity=('popularity', 'mean'),\n",
    "    total_revenue=('revenue', 'sum')\n",
    ").reset_index()"
   ]
  },
  {
   "cell_type": "code",
   "execution_count": null,
   "id": "2d10ade3",
   "metadata": {},
   "outputs": [],
   "source": [
    "merged = imdb_stats.merge(tmdb_stats, on='actor_name', how='inner')\n",
    "merged = merged[merged['movie_count'] >= 3].copy()"
   ]
  },
  {
   "cell_type": "code",
   "execution_count": null,
   "id": "04a48a57",
   "metadata": {},
   "outputs": [],
   "source": [
    "features = merged[['avg_rating', 'movie_count', 'avg_popularity', 'total_revenue']]\n",
    "scaler = StandardScaler()\n",
    "X_scaled = scaler.fit_transform(features)"
   ]
  },
  {
   "cell_type": "code",
   "execution_count": null,
   "id": "66055edf",
   "metadata": {},
   "outputs": [],
   "source": [
    "kmeans = KMeans(n_clusters=4, random_state=42)\n",
    "merged['cluster'] = kmeans.fit_predict(X_scaled)"
   ]
  },
  {
   "cell_type": "code",
   "execution_count": null,
   "id": "5b6ad25a",
   "metadata": {},
   "outputs": [],
   "source": [
    "cluster_labels = {\n",
    "    0: \"Consistent Performers\",\n",
    "    1: \"Up-and-Comers\",\n",
    "    2: \"Veterans\",\n",
    "    3: \"Critically Acclaimed\"\n",
    "}\n",
    "merged['cluster_name'] = merged['cluster'].map(cluster_labels)"
   ]
  },
  {
   "cell_type": "code",
   "execution_count": null,
   "id": "2fab880a",
   "metadata": {},
   "outputs": [],
   "source": [
    "plot_features = ['avg_rating', 'movie_count', 'avg_popularity', 'total_revenue']\n",
    "for feature in plot_features:\n",
    "    plt.figure(figsize=(10, 5))\n",
    "    sns.violinplot(data=merged, x='cluster_name', y=feature, palette='Set2', inner='quartile')\n",
    "    plt.title(f'{feature.replace(\"_\", \" \").title()} by Cluster')\n",
    "    plt.xlabel('Actor Cluster')\n",
    "    plt.ylabel(feature.replace(\"_\", \" \").title())\n",
    "    plt.grid(True, linestyle='--', alpha=0.4)\n",
    "    plt.tight_layout()\n",
    "    plt.show()"
   ]
  },
  {
   "cell_type": "code",
   "execution_count": null,
   "id": "5706fd0d",
   "metadata": {},
   "outputs": [],
   "source": [
    "cluster_summary = merged.groupby('cluster_name').agg({\n",
    "    'avg_rating': 'mean',\n",
    "    'movie_count': 'mean',\n",
    "    'avg_popularity': 'mean',\n",
    "    'total_revenue': 'mean',\n",
    "    'actor_name': 'count'\n",
    "}).rename(columns={'actor_name': 'actor_count'})\n",
    "\n",
    "display(cluster_summary)"
   ]
  },
  {
   "cell_type": "code",
   "execution_count": null,
   "id": "1d27772c",
   "metadata": {},
   "outputs": [],
   "source": []
  }
 ],
 "metadata": {
  "kernelspec": {
   "display_name": "Python 3",
   "language": "python",
   "name": "python3"
  },
  "language_info": {
   "codemirror_mode": {
    "name": "ipython",
    "version": 3
   },
   "file_extension": ".py",
   "mimetype": "text/x-python",
   "name": "python",
   "nbconvert_exporter": "python",
   "pygments_lexer": "ipython3",
   "version": "3.13.0"
  }
 },
 "nbformat": 4,
 "nbformat_minor": 5
}
