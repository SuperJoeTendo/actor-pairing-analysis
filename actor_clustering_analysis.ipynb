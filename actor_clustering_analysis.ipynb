{
 "cells": [
  {
   "cell_type": "code",
   "execution_count": 7,
   "id": "e5c8ec78",
   "metadata": {},
   "outputs": [],
   "source": [
    "import pandas as pd\n",
    "import json\n",
    "from sklearn.preprocessing import StandardScaler\n",
    "from sklearn.cluster import KMeans\n",
    "import matplotlib.pyplot as plt\n",
    "import seaborn as sns"
   ]
  },
  {
   "cell_type": "code",
   "execution_count": 8,
   "id": "88b839e3",
   "metadata": {},
   "outputs": [],
   "source": [
    "with open('imdb_movies_2000to2022.prolific.json', 'r') as f:\n",
    "    imdb_data = [json.loads(line) for line in f]"
   ]
  },
  {
   "cell_type": "code",
   "execution_count": 9,
   "id": "198ee341",
   "metadata": {},
   "outputs": [],
   "source": [
    "imdb_rows = []\n",
    "for entry in imdb_data:\n",
    "    if \"rating\" in entry and \"avg\" in entry[\"rating\"] and entry[\"rating\"][\"avg\"] != \"\\\\N\":\n",
    "        rating = float(entry[\"rating\"][\"avg\"])\n",
    "        year = int(entry[\"year\"]) if entry[\"year\"].isdigit() else None\n",
    "        for actor in entry.get(\"actors\", []):\n",
    "            imdb_rows.append({\n",
    "                \"actor_name\": actor[1],\n",
    "                \"rating\": rating,\n",
    "                \"year\": year\n",
    "            })\n",
    "\n",
    "df_imdb = pd.DataFrame(imdb_rows)"
   ]
  }
 ],
 "metadata": {
  "kernelspec": {
   "display_name": "Python 3",
   "language": "python",
   "name": "python3"
  },
  "language_info": {
   "codemirror_mode": {
    "name": "ipython",
    "version": 3
   },
   "file_extension": ".py",
   "mimetype": "text/x-python",
   "name": "python",
   "nbconvert_exporter": "python",
   "pygments_lexer": "ipython3",
   "version": "3.13.0"
  }
 },
 "nbformat": 4,
 "nbformat_minor": 5
}
