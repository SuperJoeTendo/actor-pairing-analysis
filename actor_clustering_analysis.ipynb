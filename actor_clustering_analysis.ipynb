{
 "cells": [
  {
   "cell_type": "code",
   "execution_count": 7,
   "id": "e5c8ec78",
   "metadata": {},
   "outputs": [],
   "source": [
    "import pandas as pd\n",
    "import json\n",
    "from sklearn.preprocessing import StandardScaler\n",
    "from sklearn.cluster import KMeans\n",
    "import matplotlib.pyplot as plt\n",
    "import seaborn as sns"
   ]
  },
  {
   "cell_type": "code",
   "execution_count": 8,
   "id": "88b839e3",
   "metadata": {},
   "outputs": [],
   "source": [
    "with open('imdb_movies_2000to2022.prolific.json', 'r') as f:\n",
    "    imdb_data = [json.loads(line) for line in f]"
   ]
  },
  {
   "cell_type": "code",
   "execution_count": 9,
   "id": "198ee341",
   "metadata": {},
   "outputs": [],
   "source": [
    "imdb_rows = []\n",
    "for entry in imdb_data:\n",
    "    if \"rating\" in entry and \"avg\" in entry[\"rating\"] and entry[\"rating\"][\"avg\"] != \"\\\\N\":\n",
    "        rating = float(entry[\"rating\"][\"avg\"])\n",
    "        year = int(entry[\"year\"]) if entry[\"year\"].isdigit() else None\n",
    "        for actor in entry.get(\"actors\", []):\n",
    "            imdb_rows.append({\n",
    "                \"actor_name\": actor[1],\n",
    "                \"rating\": rating,\n",
    "                \"year\": year\n",
    "            })\n",
    "\n",
    "df_imdb = pd.DataFrame(imdb_rows)"
   ]
  },
  {
   "cell_type": "code",
   "execution_count": 22,
   "id": "04d22b0f",
   "metadata": {},
   "outputs": [],
   "source": [
    "imdb_stats = df_imdb.groupby('actor_name').agg(\n",
    "    avg_rating=('rating', 'mean'),\n",
    "    movie_count=('rating', 'count'),\n",
    "    first_year=('year', 'min'),\n",
    "    last_year=('year', 'max')\n",
    ").reset_index()\n",
    "imdb_stats['years_active'] = imdb_stats['last_year'] - imdb_stats['first_year']"
   ]
  },
  {
   "cell_type": "code",
   "execution_count": 24,
   "id": "690b65d1",
   "metadata": {},
   "outputs": [],
   "source": [
    "tmdb_movies = pd.read_csv('/Users/superjoetendo/Documents/actor-pairing-analysis/tmdb_5000_movies.csv')\n",
    "tmdb_credits = pd.read_csv('//Users/superjoetendo/Documents/actor-pairing-analysis/tmdb_5000_credits.csv')"
   ]
  },
  {
   "cell_type": "code",
   "execution_count": 25,
   "id": "e2ac4629",
   "metadata": {},
   "outputs": [],
   "source": [
    "tmdb_credits['cast'] = tmdb_credits['cast'].apply(json.loads)\n",
    "tmdb_cast_rows = []\n",
    "for _, row in tmdb_credits.iterrows():\n",
    "    for actor in row['cast']:\n",
    "        tmdb_cast_rows.append({\n",
    "            'movie_id': row['movie_id'],\n",
    "            'actor_name': actor['name']\n",
    "        })\n",
    "\n",
    "df_cast = pd.DataFrame(tmdb_cast_rows)"
   ]
  },
  {
   "cell_type": "code",
   "execution_count": 26,
   "id": "d90f046b",
   "metadata": {},
   "outputs": [],
   "source": [
    "tmdb_movies_subset = tmdb_movies[['id', 'popularity', 'revenue']]\n",
    "df_tmdb = df_cast.merge(tmdb_movies_subset, left_on='movie_id', right_on='id', how='left')"
   ]
  },
  {
   "cell_type": "code",
   "execution_count": 27,
   "id": "9965e268",
   "metadata": {},
   "outputs": [],
   "source": [
    "tmdb_stats = df_tmdb.groupby('actor_name').agg(\n",
    "    avg_popularity=('popularity', 'mean'),\n",
    "    total_revenue=('revenue', 'sum')\n",
    ").reset_index()"
   ]
  },
  {
   "cell_type": "code",
   "execution_count": 28,
   "id": "36fc0300",
   "metadata": {},
   "outputs": [],
   "source": [
    "merged = imdb_stats.merge(tmdb_stats, on='actor_name', how='inner')\n",
    "merged = merged[merged['movie_count'] >= 3].copy()"
   ]
  }
 ],
 "metadata": {
  "kernelspec": {
   "display_name": "Python 3",
   "language": "python",
   "name": "python3"
  },
  "language_info": {
   "codemirror_mode": {
    "name": "ipython",
    "version": 3
   },
   "file_extension": ".py",
   "mimetype": "text/x-python",
   "name": "python",
   "nbconvert_exporter": "python",
   "pygments_lexer": "ipython3",
   "version": "3.13.0"
  }
 },
 "nbformat": 4,
 "nbformat_minor": 5
}
